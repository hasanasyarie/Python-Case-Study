{
  "nbformat": 4,
  "nbformat_minor": 0,
  "metadata": {
    "colab": {
      "provenance": [],
      "authorship_tag": "ABX9TyMnfThHPXDH2OoMNZf13dWX"
    },
    "kernelspec": {
      "name": "python3",
      "display_name": "Python 3"
    },
    "language_info": {
      "name": "python"
    }
  },
  "cells": [
    {
      "cell_type": "markdown",
      "source": [
        "Membuat fungsi untuk menghitung volume silinder (tabung)."
      ],
      "metadata": {
        "id": "T1NKBXQNy2Rf"
      }
    },
    {
      "cell_type": "code",
      "execution_count": 1,
      "metadata": {
        "id": "T4ZLaYMpy1N2"
      },
      "outputs": [],
      "source": [
        "import math\n",
        "def volume_silinder(r1, t1):\n",
        "  R1 = float(r1)\n",
        "  T1 = float(t1)\n",
        "  volume = math.pi*(R1**2)*T1\n",
        "  return volume"
      ]
    },
    {
      "cell_type": "code",
      "source": [
        "# Menghitung volume silinder\n",
        "volume_silinder(14, 25)"
      ],
      "metadata": {
        "colab": {
          "base_uri": "https://localhost:8080/"
        },
        "id": "97kQCu_pzAu3",
        "outputId": "e271bcdd-c550-4fb6-d520-488431c0512c"
      },
      "execution_count": 3,
      "outputs": [
        {
          "output_type": "execute_result",
          "data": {
            "text/plain": [
              "15393.804002589985"
            ]
          },
          "metadata": {},
          "execution_count": 3
        }
      ]
    },
    {
      "cell_type": "code",
      "source": [
        "# Menghitung volume silinder\n",
        "volume_silinder(10, 26)"
      ],
      "metadata": {
        "colab": {
          "base_uri": "https://localhost:8080/"
        },
        "id": "Q18Ugj59zDpE",
        "outputId": "7ad2f5ba-8511-4aff-e27a-d5fb088187d5"
      },
      "execution_count": 2,
      "outputs": [
        {
          "output_type": "execute_result",
          "data": {
            "text/plain": [
              "8168.140899333463"
            ]
          },
          "metadata": {},
          "execution_count": 2
        }
      ]
    }
  ]
}