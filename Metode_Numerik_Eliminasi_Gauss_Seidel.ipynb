{
  "nbformat": 4,
  "nbformat_minor": 0,
  "metadata": {
    "colab": {
      "provenance": [],
      "authorship_tag": "ABX9TyOeX4NLUezHiIyjPrcv9ALM"
    },
    "kernelspec": {
      "name": "python3",
      "display_name": "Python 3"
    },
    "language_info": {
      "name": "python"
    }
  },
  "cells": [
    {
      "cell_type": "markdown",
      "source": [
        "Membuat program untuk menyelesaikan persamaan linear menggunakan eliminasi gauss seidel. <br/>\n",
        "\n",
        "Contoh persamaan: <br/>\n",
        "2x<sub>1</sub> + 3x<sub>2</sub> + 4x<sub>3</sub> + 2x<sub>4</sub> + 3x<sub>5</sub> = 4 <br/>\n",
        "3x<sub>1</sub> + 4x<sub>2</sub> + 5x<sub>3</sub> + 4x<sub>4</sub> 5x<sub>5</sub> = 1 <br/>\n",
        "4x<sub>1</sub> + 6x<sub>2</sub> + 7x<sub>3</sub> + 6x<sub>4</sub> 5x<sub>5</sub> = 2 <br/>\n",
        "5x<sub>1</sub> + 7x<sub>2</sub> + 8x<sub>3</sub> + 9x<sub>4</sub> 8x<sub>5</sub> = 0 <br/>\n",
        "3x<sub>1</sub> + 3x<sub>2</sub> + 3x<sub>3</sub> + 8x<sub>4</sub> 7x<sub>5</sub> = 2 <br/>"
      ],
      "metadata": {
        "id": "-DOs9IOlvmic"
      }
    },
    {
      "cell_type": "code",
      "execution_count": 1,
      "metadata": {
        "colab": {
          "base_uri": "https://localhost:8080/"
        },
        "id": "Emntd2ZAvZzm",
        "outputId": "cfc57c2f-4d4b-4ea1-9677-48bffad8f617"
      },
      "outputs": [
        {
          "output_type": "stream",
          "name": "stdout",
          "text": [
            "\n",
            "Iterasi\tx1\tx2\tx3\tx4\tx5\te1\te2\te3\te4\te5\n",
            "\n",
            "1\t2.0000\t0.0000\t-0.1429\t-0.0816\t0.0117\t2.0000\t0.0000\t0.1429\t0.0816\t0.0117\n",
            "\n",
            "2\t2.3499\t-0.0168\t-0.1311\t-0.1361\t-0.0738\t0.3499\t0.0168\t0.0118\t0.0545\t0.0855\n",
            "\n",
            "3\t2.5342\t-0.0084\t-0.1565\t-0.1456\t-0.1348\t0.1844\t0.0084\t0.0254\t0.0095\t0.0609\n",
            "\n",
            "4\t2.6732\t0.0047\t-0.2000\t-0.1813\t-0.1405\t0.1390\t0.0131\t0.0435\t0.0357\t0.0057\n",
            "\n",
            "5\t2.7849\t0.0182\t-0.1941\t-0.1966\t-0.1791\t0.1117\t0.0135\t0.0058\t0.0153\t0.0387\n",
            "\n",
            "6\t2.8263\t0.0435\t-0.2077\t-0.2019\t-0.1959\t0.0414\t0.0253\t0.0136\t0.0053\t0.0167\n",
            "\n",
            "7\t2.8459\t0.0720\t-0.2165\t-0.2127\t-0.2003\t0.0196\t0.0285\t0.0088\t0.0108\t0.0045\n",
            "\n",
            "8\t2.8382\t0.1051\t-0.2112\t-0.2135\t-0.2126\t0.0076\t0.0331\t0.0052\t0.0008\t0.0123\n",
            "\n",
            "9\t2.7973\t0.1453\t-0.2123\t-0.2119\t-0.2137\t0.0409\t0.0403\t0.0011\t0.0016\t0.0011\n",
            "\n",
            "\n",
            "Solusi akhir: x1 = 2.7973, x2 = 0.1453, x3 = -0.2123, x4 = -0.2119, x5 = -0.2137\n",
            "\n"
          ]
        }
      ],
      "source": [
        "# Membuat fungsi\n",
        "f1 = lambda x1,x2,x3,x4,x5: (4-(3*x2)-(4*x3)-(2*x4)-(3*x5))/2\n",
        "f2 = lambda x1,x2,x3,x4,x5: (6-(3*x1)-(5*x3)-(4*x4)-(5*x5))/4\n",
        "f3 = lambda x1,x2,x3,x4,x5: (9-(4*x1)-(6*x2)-(6*x4)-(5*x5))/7\n",
        "f3 = lambda x1,x2,x3,x4,x5: (7-(5*x1)-(7*x2)-(8*x3)-(8*x5))/9\n",
        "f3 = lambda x1,x2,x3,x4,x5: (5-(3*x1)-(3*x2)-(3*x3)-(8*x4))/7\n",
        "\n",
        "# Inisiasi nilai awal\n",
        "x1_0 = 0\n",
        "x2_0 = 0\n",
        "x3_0 = 0\n",
        "x4_0 = 0\n",
        "x5_0 = 0\n",
        "\n",
        "iterasi = 1\n",
        "print('\\nIterasi\\tx1\\tx2\\tx3\\tx4\\tx5\\te1\\te2\\te3\\te4\\te5\\n')\n",
        "\n",
        "condition = True\n",
        "\n",
        "while condition:\n",
        "    x_1 = f1(x1_0, x2_0, x3_0, x4_0, x5_0)\n",
        "    x_2 = f2(x_1, x2_0, x3_0, x4_0, x5_0)\n",
        "    x_3 = f3(x_1, x_2, x3_0, x4_0, x5_0)\n",
        "    x_4 = f3(x_1, x_2, x_3, x4_0, x5_0)\n",
        "    x_5 = f3(x_1, x_2, x_3, x_4, x5_0)\n",
        "\n",
        "    e1 = abs(x1_0 - x_1);\n",
        "    e2 = abs(x2_0 - x_2);\n",
        "    e3 = abs(x3_0 - x_3);\n",
        "    e4 = abs(x4_0 - x_4);\n",
        "    e5 = abs(x5_0 - x_5);\n",
        "\n",
        "    print('%d\\t%0.4f\\t%0.4f\\t%0.4f\\t%0.4f\\t%0.4f\\t%0.4f\\t%0.4f\\t%0.4f\\t%0.4f\\t%0.4f\\n' %(iterasi, x_1, x_2, x_3, x_4, x_5, e1, e2, e3, e4, e5))\n",
        "\n",
        "    iterasi += 1\n",
        "    \n",
        "    x1_0 = x_1\n",
        "    x2_0 = x_2\n",
        "    x3_0 = x_3\n",
        "    x4_0 = x_4\n",
        "    x5_0 = x_5\n",
        "    \n",
        "    condition = iterasi < 10\n",
        "\n",
        "print('\\nSolusi akhir: x1 = %0.4f, x2 = %0.4f, x3 = %0.4f, x4 = %0.4f, x5 = %0.4f\\n'% (x_1, x_2 ,x_3 ,x_4 , x_5))"
      ]
    }
  ]
}