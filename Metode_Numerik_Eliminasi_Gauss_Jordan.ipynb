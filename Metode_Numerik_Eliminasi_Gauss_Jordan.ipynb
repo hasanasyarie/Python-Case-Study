{
  "nbformat": 4,
  "nbformat_minor": 0,
  "metadata": {
    "colab": {
      "provenance": [],
      "authorship_tag": "ABX9TyP3dUz4bJh30QlPacB9CmEI"
    },
    "kernelspec": {
      "name": "python3",
      "display_name": "Python 3"
    },
    "language_info": {
      "name": "python"
    }
  },
  "cells": [
    {
      "cell_type": "markdown",
      "source": [
        "Membuat program untuk menyelesaikan persamaan linear menggunakan eliminasi gauss jordan. <br/>\n",
        "Contoh persamaan: <br/>\n",
        "8x<sub>1</sub> + x<sub>2</sub> + 3x<sub>3</sub> + 2x<sub>4</sub> = 0 <br/>\n",
        "2x<sub>1</sub> + 9x<sub>2</sub> + x<sub>3</sub> + 2x<sub>4</sub> = 1 <br/>\n",
        "x<sub>1</sub> + 3x<sub>2</sub> + 2x<sub>3</sub> + 1x<sub>4</sub> = 2 <br/>\n",
        "x<sub>1</sub> + 6<sub>2</sub> + 4x<sub>3</sub> = 0"
      ],
      "metadata": {
        "id": "Kf58XjaoqYii"
      }
    },
    {
      "cell_type": "code",
      "execution_count": 1,
      "metadata": {
        "colab": {
          "base_uri": "https://localhost:8080/"
        },
        "id": "wNDlRkNqqLUU",
        "outputId": "076d54b0-e25e-4f52-a62d-af7dfefdbb14"
      },
      "outputs": [
        {
          "output_type": "stream",
          "name": "stdout",
          "text": [
            "X =\n",
            " [[-0.125]\n",
            " [ 0.   ]\n",
            " [ 1.   ]\n",
            " [-1.   ]]\n"
          ]
        }
      ],
      "source": [
        "from numpy import *\n",
        "A = array([[8, 1, 3, 2, 0],\n",
        "           [2, 9, -1, -2, 1],\n",
        "           [1, 3, 2, -1, 2],\n",
        "           [1, 6, 4, 0, 3]])\n",
        "\n",
        "n = len(A)\n",
        "\n",
        "for k in range(0, n-1):\n",
        "  for i in range(k+1, n):\n",
        "    m = A[i][k]/A[k][k]\n",
        "    for j in range(0,n+1):\n",
        "      A[i][j]=A[i][j]-m*A[k][j]\n",
        "\n",
        "X = zeros((n, 1))\n",
        "X[n-1][0] = A[n-1][n]/A[n-1][n-1]\n",
        "\n",
        "for j in range(n-2, -1, -1):\n",
        "  S = 0\n",
        "  for i in range(j+1,n):\n",
        "    S = S+A[j][i]*X[i][0]\n",
        "    X[j][0] = (A[j][n]-S)/A[j][j]\n",
        "\n",
        "print ('X =\\n',X)"
      ]
    }
  ]
}