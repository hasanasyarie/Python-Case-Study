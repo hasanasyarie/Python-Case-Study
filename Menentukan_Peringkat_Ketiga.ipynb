{
  "nbformat": 4,
  "nbformat_minor": 0,
  "metadata": {
    "colab": {
      "provenance": [],
      "authorship_tag": "ABX9TyPATldKTbdPoSsevVds+4Pt"
    },
    "kernelspec": {
      "name": "python3",
      "display_name": "Python 3"
    },
    "language_info": {
      "name": "python"
    }
  },
  "cells": [
    {
      "cell_type": "markdown",
      "metadata": {
        "id": "9db_O8Co64qs"
      },
      "source": [
        "Membuat fungsi dengan nama ```third_place``` yang dapat melakukan aktifitas berikut: \n",
        "\n",
        "Diberikan daftar nilai ujian dan daftar nama peserta. Output yang diinginkan adalah nama peserta yang mendapat nilai terbaik ke-3. Aturan penentuan urutan skor terbaik adalah sebagai berikut:\n",
        "- Skor yang lebih tinggi lebih baik\n",
        "- Apabila beberapa peserta memiliki skor tes yang sama, mereka dapat menempati nilai peringkat yang sama. Misalnya, jika 2 peserta mendapat nilai 100, maka keduanya menempati urutan pertama.\n",
        "\n",
        "Input pertama dari fungsi adalah daftar nama, dan input kedua pada fungsi adalah daftar skor."
      ]
    },
    {
      "cell_type": "code",
      "execution_count": 1,
      "metadata": {
        "id": "GSSsDYCXhODB"
      },
      "outputs": [],
      "source": [
        "def third_place(names, score):\n",
        "  x = dict(zip(names,score))\n",
        "  third = []\n",
        "  urut = sorted(set(score))\n",
        "  urut = urut[-3]\n",
        "  for i, j in x.items():\n",
        "    if j == urut:\n",
        "      third.append(i)\n",
        "  print('The third winner:', third)"
      ]
    },
    {
      "cell_type": "code",
      "source": [
        "names = ['Andi', 'Budi', 'Charlie', 'Dilan', 'Echa']\n",
        "score = [80, 90, 95, 100, 85]\n",
        "third_place(names, score)"
      ],
      "metadata": {
        "colab": {
          "base_uri": "https://localhost:8080/"
        },
        "id": "PXJT7KKNhUsZ",
        "outputId": "74dbb3fe-da71-4f30-b862-097cc4ef5409"
      },
      "execution_count": 2,
      "outputs": [
        {
          "output_type": "stream",
          "name": "stdout",
          "text": [
            "The third winner: ['Budi']\n"
          ]
        }
      ]
    },
    {
      "cell_type": "code",
      "source": [
        "names =  ['Andi', 'Budi', 'Charlie', 'Dilan', 'Echa']\n",
        "score = [80, 80, 80, 100, 90]\n",
        "third_place(names, score)"
      ],
      "metadata": {
        "colab": {
          "base_uri": "https://localhost:8080/"
        },
        "id": "FjIClK4ghZEn",
        "outputId": "c06beacf-6a12-436e-a9c8-18ac78fa0409"
      },
      "execution_count": 3,
      "outputs": [
        {
          "output_type": "stream",
          "name": "stdout",
          "text": [
            "The third winner: ['Andi', 'Budi', 'Charlie']\n"
          ]
        }
      ]
    },
    {
      "cell_type": "code",
      "source": [
        "names = ['Andi', 'Budi', 'Charlie', 'Dilan', 'Echa', 'Fanya']\n",
        "score = [80, 90, 90, 100, 100, 80]\n",
        "third_place(names, score)"
      ],
      "metadata": {
        "colab": {
          "base_uri": "https://localhost:8080/"
        },
        "id": "ZaaUFP7ghd5b",
        "outputId": "64c64b16-8306-4173-e110-29d577a378a1"
      },
      "execution_count": 4,
      "outputs": [
        {
          "output_type": "stream",
          "name": "stdout",
          "text": [
            "The third winner: ['Andi', 'Fanya']\n"
          ]
        }
      ]
    }
  ]
}