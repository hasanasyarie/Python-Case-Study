{
  "nbformat": 4,
  "nbformat_minor": 0,
  "metadata": {
    "colab": {
      "provenance": [],
      "authorship_tag": "ABX9TyPvX9DxmZR0NzsMbLVMi0To"
    },
    "kernelspec": {
      "name": "python3",
      "display_name": "Python 3"
    },
    "language_info": {
      "name": "python"
    }
  },
  "cells": [
    {
      "cell_type": "markdown",
      "source": [
        "Membuat fungsi untuk menghitung volume silinder kerucut."
      ],
      "metadata": {
        "id": "DFUd15Z_0nd-"
      }
    },
    {
      "cell_type": "code",
      "execution_count": 9,
      "metadata": {
        "id": "NHpRE6p_xtaB"
      },
      "outputs": [],
      "source": [
        "import math\n",
        "  \n",
        "def volume_silinder_kerucut(r1,t1,r2,t2):\n",
        "  Vs = volume_silinder(r1,t1)\n",
        "  Vk = volume_kerucut(r2,t2)\n",
        "  Volume_akhir = Vs+Vk\n",
        "  return Volume_akhir"
      ]
    },
    {
      "cell_type": "code",
      "source": [
        "# Menghitung volume silinder kerucut\n",
        "volume_silinder_kerucut(14,25,8,15)"
      ],
      "metadata": {
        "colab": {
          "base_uri": "https://localhost:8080/"
        },
        "id": "Z1Jkve3EyAzS",
        "outputId": "6645b525-4243-4562-d999-05de2b6bb1da"
      },
      "execution_count": 11,
      "outputs": [
        {
          "output_type": "execute_result",
          "data": {
            "text/plain": [
              "16399.113651738717"
            ]
          },
          "metadata": {},
          "execution_count": 11
        }
      ]
    },
    {
      "cell_type": "code",
      "source": [
        "volume_silinder_kerucut(10,15,10,12)"
      ],
      "metadata": {
        "colab": {
          "base_uri": "https://localhost:8080/"
        },
        "id": "yeovAPFJymqU",
        "outputId": "7fd44ce9-ea37-4279-e66c-b0b248f8681a"
      },
      "execution_count": 13,
      "outputs": [
        {
          "output_type": "execute_result",
          "data": {
            "text/plain": [
              "5969.026041820607"
            ]
          },
          "metadata": {},
          "execution_count": 13
        }
      ]
    }
  ]
}