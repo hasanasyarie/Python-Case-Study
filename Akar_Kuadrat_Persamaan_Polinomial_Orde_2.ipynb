{
  "nbformat": 4,
  "nbformat_minor": 0,
  "metadata": {
    "colab": {
      "provenance": [],
      "authorship_tag": "ABX9TyNwA20SnWcKT9adVB0NNTRO"
    },
    "kernelspec": {
      "name": "python3",
      "display_name": "Python 3"
    },
    "language_info": {
      "name": "python"
    }
  },
  "cells": [
    {
      "cell_type": "markdown",
      "source": [
        "Membuat fungsi dengan nama ```square_root``` yang dapat melakukan fungsi berikut:\n",
        "\n",
        "Diberikan polinomial orde kedua, temukan akarnya (akar harus dalam bilangan real). Inputnya adalah 3 angka, masing-masing mewakili 'a', 'b', dan 'c', dalam ax<sup>2</sup> + bx + c = 0.\n",
        "\n",
        "Tugas kita adalah mencari akar dari ax^2 + bx + c = 0. \n",
        "\n",
        "Namun, terkadang persamaan tidak dapat diselesaikan, atau hanya memiliki satu solusi, bukan dua. Fungsi berikut juga harus mempertimbangkan hal ini.\n",
        "\n",
        "Input fungsi adalah 3 angka, angka pertama adalah konstanta 'a', angka kedua adalah konstanta 'b', dan angka ketiga adalah konstanta 'c'."
      ],
      "metadata": {
        "id": "VK3VSoOel-8V"
      }
    },
    {
      "cell_type": "code",
      "execution_count": 1,
      "metadata": {
        "id": "u0fCXDsNi6VI"
      },
      "outputs": [],
      "source": [
        "from math import sqrt\n",
        "def square_root(a, b, c):\n",
        "    D = (b**2)-(4*a*c)\n",
        "    if (D > 0): \n",
        "      x1 = (-b + sqrt(D)) / (2*a)\n",
        "      x2 = (-b - sqrt(D)) / (2*a)\n",
        "      print('x1 =', round(x1, 2))\n",
        "      print('x2 =', round(x2, 2))    \n",
        "    elif (D == 0):\n",
        "      x = (-b + sqrt(D)) / (2*a)\n",
        "      print('x =', round(x, 2))\n",
        "    else:\n",
        "      print('No solution');"
      ]
    },
    {
      "cell_type": "markdown",
      "source": [
        "Cari akar dari persamaan x<sup>2</sup> - 5x + 6 = 0"
      ],
      "metadata": {
        "id": "0HKnkK2gjWP-"
      }
    },
    {
      "cell_type": "code",
      "source": [
        "square_root(1, -5, 6)"
      ],
      "metadata": {
        "colab": {
          "base_uri": "https://localhost:8080/"
        },
        "id": "-wFmj9mYjHuD",
        "outputId": "2d937c61-a914-4235-8f60-b39091d0ab79"
      },
      "execution_count": 2,
      "outputs": [
        {
          "output_type": "stream",
          "name": "stdout",
          "text": [
            "x1 = 3.0\n",
            "x2 = 2.0\n"
          ]
        }
      ]
    },
    {
      "cell_type": "markdown",
      "source": [
        "Cari akar dari persamaan 2x<sup>2</sup> + 4x + 2 = 0"
      ],
      "metadata": {
        "id": "K_5we0n5lHf0"
      }
    },
    {
      "cell_type": "code",
      "source": [
        "square_root(2, 4, 2)"
      ],
      "metadata": {
        "colab": {
          "base_uri": "https://localhost:8080/"
        },
        "id": "nEX1krCQjJ71",
        "outputId": "bb1090f7-72d0-4392-8a13-c6c83bcaf897"
      },
      "execution_count": 3,
      "outputs": [
        {
          "output_type": "stream",
          "name": "stdout",
          "text": [
            "x = -1.0\n"
          ]
        }
      ]
    },
    {
      "cell_type": "markdown",
      "source": [
        "Cari akar dari persamaan x<sup>2</sup> + x + 9 = 0"
      ],
      "metadata": {
        "id": "TOc_nPEclQoN"
      }
    },
    {
      "cell_type": "code",
      "source": [
        "square_root(1, 1, 9)"
      ],
      "metadata": {
        "colab": {
          "base_uri": "https://localhost:8080/"
        },
        "id": "D9_4IuFVjMBC",
        "outputId": "9cc70a94-3ec9-4b54-e52f-477ba414084b"
      },
      "execution_count": 4,
      "outputs": [
        {
          "output_type": "stream",
          "name": "stdout",
          "text": [
            "No solution\n"
          ]
        }
      ]
    }
  ]
}