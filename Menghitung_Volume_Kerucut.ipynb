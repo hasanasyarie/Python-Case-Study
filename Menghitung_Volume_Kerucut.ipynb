{
  "nbformat": 4,
  "nbformat_minor": 0,
  "metadata": {
    "colab": {
      "provenance": [],
      "authorship_tag": "ABX9TyNoSg44XvR3hmO4RWL8U2OB"
    },
    "kernelspec": {
      "name": "python3",
      "display_name": "Python 3"
    },
    "language_info": {
      "name": "python"
    }
  },
  "cells": [
    {
      "cell_type": "markdown",
      "source": [
        "Membuat fungsi untuk menghitung volume kerucut."
      ],
      "metadata": {
        "id": "IiY0SY1fztZw"
      }
    },
    {
      "cell_type": "code",
      "execution_count": 3,
      "metadata": {
        "id": "eW69OoeLzsSq"
      },
      "outputs": [],
      "source": [
        "import math\n",
        "def volume_kerucut(r2, t2):\n",
        "  R2 = float(r2)\n",
        "  T2 = float(t2)\n",
        "  Volume = (1/3*(math.pi)*(R2**2))*T2\n",
        "  return Volume"
      ]
    },
    {
      "cell_type": "code",
      "source": [
        "# Menghitung volume kerucut\n",
        "volume_kerucut(8, 15)"
      ],
      "metadata": {
        "colab": {
          "base_uri": "https://localhost:8080/"
        },
        "id": "-E6WOjAvzzN5",
        "outputId": "1201a80a-797d-4058-d53c-0f1ab0fe97d7"
      },
      "execution_count": 4,
      "outputs": [
        {
          "output_type": "execute_result",
          "data": {
            "text/plain": [
              "1005.3096491487337"
            ]
          },
          "metadata": {},
          "execution_count": 4
        }
      ]
    },
    {
      "cell_type": "code",
      "source": [
        "volume_kerucut(28, 24)"
      ],
      "metadata": {
        "colab": {
          "base_uri": "https://localhost:8080/"
        },
        "id": "Uj8UsH8z0JQZ",
        "outputId": "a405adaa-a5a7-4e57-b12f-07bbb8a6cb27"
      },
      "execution_count": 5,
      "outputs": [
        {
          "output_type": "execute_result",
          "data": {
            "text/plain": [
              "19704.06912331518"
            ]
          },
          "metadata": {},
          "execution_count": 5
        }
      ]
    }
  ]
}