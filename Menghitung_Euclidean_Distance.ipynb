{
  "nbformat": 4,
  "nbformat_minor": 0,
  "metadata": {
    "colab": {
      "provenance": [],
      "authorship_tag": "ABX9TyOTksT0Fv8FMMOIYUJYAsyN"
    },
    "kernelspec": {
      "name": "python3",
      "display_name": "Python 3"
    },
    "language_info": {
      "name": "python"
    }
  },
  "cells": [
    {
      "cell_type": "markdown",
      "source": [
        "Membuat fungsi dengan namna ```distance``` yang dapat melakukan fungsi berikut:\n",
        "\n",
        "Diberikan dua koordinat dalam daftar. Kemudian menghitung jarak antara kedua koordinat tersebut. Input dari fungsi akan menjadi dua daftar. Setiap daftar berisi 2 anggota, mewakili posisi x dan y."
      ],
      "metadata": {
        "id": "eadl_JHHnI9x"
      }
    },
    {
      "cell_type": "code",
      "execution_count": 1,
      "metadata": {
        "id": "Z1I2qtf8m1OZ"
      },
      "outputs": [],
      "source": [
        "from math import sqrt\n",
        "def distance(point_1, point_2):\n",
        "    x1 = point_1[0]\n",
        "    y1 = point_1[1]\n",
        "    x2 = point_2[0]\n",
        "    y2 = point_2[1]\n",
        "    formula = sqrt((x2-x1)**2 + (y2-y1)**2)\n",
        "    print('The distance is', formula)"
      ]
    },
    {
      "cell_type": "code",
      "source": [
        "point_1 = [5, 5]\n",
        "point_2 = [1, 2]\n",
        "distance(point_1, point_2)"
      ],
      "metadata": {
        "colab": {
          "base_uri": "https://localhost:8080/"
        },
        "id": "b1PPiHezm57p",
        "outputId": "532cab8d-8f34-4079-88a0-5afa0137840b"
      },
      "execution_count": 2,
      "outputs": [
        {
          "output_type": "stream",
          "name": "stdout",
          "text": [
            "The distance is 5.0\n"
          ]
        }
      ]
    },
    {
      "cell_type": "code",
      "source": [
        "point_1 = [0,-1]\n",
        "point_2 = [-3, 2]\n",
        "distance(point_1, point_2)"
      ],
      "metadata": {
        "colab": {
          "base_uri": "https://localhost:8080/"
        },
        "id": "Fl_d7Rcom79C",
        "outputId": "a2940023-be4d-4377-8ef4-29523f31bf9e"
      },
      "execution_count": 3,
      "outputs": [
        {
          "output_type": "stream",
          "name": "stdout",
          "text": [
            "The distance is 4.242640687119285\n"
          ]
        }
      ]
    }
  ]
}